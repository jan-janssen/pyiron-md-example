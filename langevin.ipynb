{
 "cells": [
  {
   "cell_type": "markdown",
   "metadata": {},
   "source": [
    "# Interactive Langevin Thermostat\n",
    "based on: https://github.com/pyiron/pyiron_contrib/blob/master/pyiron_contrib/protocol/primitive/one_state.py"
   ]
  },
  {
   "cell_type": "code",
   "execution_count": 1,
   "metadata": {
    "ExecuteTime": {
     "end_time": "2020-02-21T06:12:17.440058Z",
     "start_time": "2020-02-21T06:12:17.234619Z"
    }
   },
   "outputs": [],
   "source": [
    "%matplotlib inline"
   ]
  },
  {
   "cell_type": "code",
   "execution_count": 2,
   "metadata": {
    "ExecuteTime": {
     "end_time": "2020-02-21T06:12:17.442948Z",
     "start_time": "2020-02-21T06:12:17.441315Z"
    }
   },
   "outputs": [],
   "source": [
    "import numpy as np"
   ]
  },
  {
   "cell_type": "code",
   "execution_count": 3,
   "metadata": {
    "ExecuteTime": {
     "end_time": "2020-02-21T06:12:17.454429Z",
     "start_time": "2020-02-21T06:12:17.444074Z"
    }
   },
   "outputs": [],
   "source": [
    "import matplotlib.pyplot as plt"
   ]
  },
  {
   "cell_type": "code",
   "execution_count": 4,
   "metadata": {
    "ExecuteTime": {
     "end_time": "2020-02-21T06:12:18.802517Z",
     "start_time": "2020-02-21T06:12:17.455417Z"
    }
   },
   "outputs": [],
   "source": [
    "from pyiron import Project"
   ]
  },
  {
   "cell_type": "code",
   "execution_count": 5,
   "metadata": {
    "ExecuteTime": {
     "end_time": "2020-02-21T06:12:18.807851Z",
     "start_time": "2020-02-21T06:12:18.804986Z"
    }
   },
   "outputs": [],
   "source": [
    "from pyiron import Notebook as nb"
   ]
  },
  {
   "cell_type": "code",
   "execution_count": 6,
   "metadata": {
    "ExecuteTime": {
     "end_time": "2020-02-21T06:12:18.818489Z",
     "start_time": "2020-02-21T06:12:18.809354Z"
    }
   },
   "outputs": [],
   "source": [
    "from scipy.constants import physical_constants"
   ]
  },
  {
   "cell_type": "markdown",
   "metadata": {},
   "source": [
    "# Parameter"
   ]
  },
  {
   "cell_type": "code",
   "execution_count": 7,
   "metadata": {
    "ExecuteTime": {
     "end_time": "2020-02-21T06:12:18.831111Z",
     "start_time": "2020-02-21T06:12:18.819546Z"
    }
   },
   "outputs": [],
   "source": [
    "temperature = 1000.0 \n",
    "cell_size = 3\n",
    "steps = 10000"
   ]
  },
  {
   "cell_type": "markdown",
   "metadata": {},
   "source": [
    "# Project"
   ]
  },
  {
   "cell_type": "code",
   "execution_count": 8,
   "metadata": {
    "ExecuteTime": {
     "end_time": "2020-02-21T06:12:19.591554Z",
     "start_time": "2020-02-21T06:12:18.832874Z"
    }
   },
   "outputs": [],
   "source": [
    "pr = Project('md_' + str(temperature).replace('.', '_'))"
   ]
  },
  {
   "cell_type": "code",
   "execution_count": 9,
   "metadata": {
    "ExecuteTime": {
     "end_time": "2020-02-21T06:12:20.359543Z",
     "start_time": "2020-02-21T06:12:19.593104Z"
    }
   },
   "outputs": [
    {
     "name": "stdout",
     "output_type": "stream",
     "text": [
      "This group does not exist in the HDF5 file lmp_interactive\n"
     ]
    }
   ],
   "source": [
    "pr.remove_jobs(recursive=True)"
   ]
  },
  {
   "cell_type": "markdown",
   "metadata": {},
   "source": [
    "# Structure"
   ]
  },
  {
   "cell_type": "code",
   "execution_count": 10,
   "metadata": {
    "ExecuteTime": {
     "end_time": "2020-02-21T06:12:20.425380Z",
     "start_time": "2020-02-21T06:12:20.360489Z"
    }
   },
   "outputs": [],
   "source": [
    "basis = pr.create_structure('Fe', 'bcc', 2.78)"
   ]
  },
  {
   "cell_type": "code",
   "execution_count": 11,
   "metadata": {
    "ExecuteTime": {
     "end_time": "2020-02-21T06:12:20.429126Z",
     "start_time": "2020-02-21T06:12:20.426600Z"
    }
   },
   "outputs": [],
   "source": [
    "basis.set_repeat([cell_size, cell_size, cell_size])"
   ]
  },
  {
   "cell_type": "code",
   "execution_count": 12,
   "metadata": {
    "ExecuteTime": {
     "end_time": "2020-02-21T06:12:20.438728Z",
     "start_time": "2020-02-21T06:12:20.430153Z"
    }
   },
   "outputs": [
    {
     "data": {
      "text/plain": [
       "54"
      ]
     },
     "execution_count": 12,
     "metadata": {},
     "output_type": "execute_result"
    }
   ],
   "source": [
    "len(basis)"
   ]
  },
  {
   "cell_type": "markdown",
   "metadata": {},
   "source": [
    "# Equilibration - Lammps MD for comparison"
   ]
  },
  {
   "cell_type": "code",
   "execution_count": 13,
   "metadata": {
    "ExecuteTime": {
     "end_time": "2020-02-21T06:12:20.486452Z",
     "start_time": "2020-02-21T06:12:20.439719Z"
    }
   },
   "outputs": [],
   "source": [
    "ham_equ = pr.create_job(pr.job_type.Lammps, 'lmpequ')"
   ]
  },
  {
   "cell_type": "code",
   "execution_count": 14,
   "metadata": {
    "ExecuteTime": {
     "end_time": "2020-02-21T06:12:20.526400Z",
     "start_time": "2020-02-21T06:12:20.523973Z"
    }
   },
   "outputs": [],
   "source": [
    "ham_equ.structure = basis"
   ]
  },
  {
   "cell_type": "code",
   "execution_count": 15,
   "metadata": {
    "ExecuteTime": {
     "end_time": "2020-02-21T06:12:20.541333Z",
     "start_time": "2020-02-21T06:12:20.527316Z"
    }
   },
   "outputs": [],
   "source": [
    "ham_equ.potential = 'Fe_C_Becquart_eam'"
   ]
  },
  {
   "cell_type": "code",
   "execution_count": 16,
   "metadata": {
    "ExecuteTime": {
     "end_time": "2020-02-21T06:12:20.549833Z",
     "start_time": "2020-02-21T06:12:20.542265Z"
    }
   },
   "outputs": [],
   "source": [
    "ham_equ.calc_md(temperature=temperature, n_print=1, n_ionic_steps=steps, langevin=True)"
   ]
  },
  {
   "cell_type": "code",
   "execution_count": 17,
   "metadata": {
    "ExecuteTime": {
     "end_time": "2020-02-21T06:12:53.151012Z",
     "start_time": "2020-02-21T06:12:20.550754Z"
    }
   },
   "outputs": [
    {
     "name": "stdout",
     "output_type": "stream",
     "text": [
      "The job lmpequ was saved and received the ID: 4948040\n"
     ]
    }
   ],
   "source": [
    "ham_equ.run()"
   ]
  },
  {
   "cell_type": "code",
   "execution_count": 18,
   "metadata": {
    "ExecuteTime": {
     "end_time": "2020-02-21T06:12:57.940507Z",
     "start_time": "2020-02-21T06:12:53.152395Z"
    }
   },
   "outputs": [],
   "source": [
    "ham_equ.decompress()"
   ]
  },
  {
   "cell_type": "code",
   "execution_count": 19,
   "metadata": {
    "ExecuteTime": {
     "end_time": "2020-02-21T06:12:57.974758Z",
     "start_time": "2020-02-21T06:12:57.941569Z"
    }
   },
   "outputs": [
    {
     "data": {
      "text/plain": [
       "['    9998     847.998126308807    -207.010598129557    -201.201143008937     185466.250250248     7781.69678076173     4507.65493113195      189780.95766666     772.244621038435     179740.184049824           580.093704 \\n',\n",
       " '    9999     872.578791431071    -207.066105520868    -201.088253482339     184560.019986913     7516.95652941523     4559.02055753205     190271.002628124     1208.42468673106     180291.925053034           580.093704 \\n',\n",
       " '   10000     875.312652971048    -207.123850405555    -201.127269262056     183660.586459235     7175.71659155665     4849.62369463125     190245.839173707     1892.78050832314     180444.863623847           580.093704 \\n',\n",
       " 'Loop time of 3.1128 on 1 procs for 10000 steps with 54 atoms\\n',\n",
       " '\\n',\n",
       " 'Performance: 277.564 ns/day, 0.086 hours/ns, 3212.543 timesteps/s\\n',\n",
       " '97.6% CPU use with 1 MPI tasks x no OpenMP threads\\n',\n",
       " '\\n',\n",
       " 'MPI task timing breakdown:\\n',\n",
       " 'Section |  min time  |  avg time  |  max time  |%varavg| %total\\n',\n",
       " '---------------------------------------------------------------\\n',\n",
       " 'Pair    | 1.0472     | 1.0472     | 1.0472     |   0.0 | 33.64\\n',\n",
       " 'Neigh   | 0          | 0          | 0          |   0.0 |  0.00\\n',\n",
       " 'Comm    | 0.034091   | 0.034091   | 0.034091   |   0.0 |  1.10\\n',\n",
       " 'Output  | 1.9977     | 1.9977     | 1.9977     |   0.0 | 64.18\\n',\n",
       " 'Modify  | 0.027599   | 0.027599   | 0.027599   |   0.0 |  0.89\\n',\n",
       " 'Other   |            | 0.006176   |            |       |  0.20\\n',\n",
       " '\\n',\n",
       " 'Nlocal:    54 ave 54 max 54 min\\n',\n",
       " 'Histogram: 1 0 0 0 0 0 0 0 0 0\\n',\n",
       " 'Nghost:    1187 ave 1187 max 1187 min\\n',\n",
       " 'Histogram: 1 0 0 0 0 0 0 0 0 0\\n',\n",
       " 'Neighs:    4536 ave 4536 max 4536 min\\n',\n",
       " 'Histogram: 1 0 0 0 0 0 0 0 0 0\\n',\n",
       " '\\n',\n",
       " 'Total # of neighbors = 4536\\n',\n",
       " 'Ave neighs/atom = 84\\n',\n",
       " 'Neighbor list builds = 0\\n',\n",
       " 'Dangerous builds = 0\\n',\n",
       " 'Total wall time: 0:00:03\\n']"
      ]
     },
     "execution_count": 19,
     "metadata": {},
     "output_type": "execute_result"
    }
   ],
   "source": [
    "ham_equ['log.lammps'][-30:]"
   ]
  },
  {
   "cell_type": "markdown",
   "metadata": {},
   "source": [
    "# Interactive Job"
   ]
  },
  {
   "cell_type": "markdown",
   "metadata": {},
   "source": [
    "## Constants"
   ]
  },
  {
   "cell_type": "code",
   "execution_count": 20,
   "metadata": {
    "ExecuteTime": {
     "end_time": "2020-02-21T06:12:57.977740Z",
     "start_time": "2020-02-21T06:12:57.975677Z"
    }
   },
   "outputs": [],
   "source": [
    "KB = physical_constants['Boltzmann constant in eV/K'][0]\n",
    "EV_TO_U_ANGSQ_PER_FSSQ = physical_constants['Faraday constant'][0] / 10**7\n",
    "U_ANGSQ_PER_FSSQ_TO_EV = 1. / EV_TO_U_ANGSQ_PER_FSSQ"
   ]
  },
  {
   "cell_type": "code",
   "execution_count": 21,
   "metadata": {
    "ExecuteTime": {
     "end_time": "2020-02-21T06:12:57.985905Z",
     "start_time": "2020-02-21T06:12:57.978613Z"
    }
   },
   "outputs": [],
   "source": [
    "overheat_fraction = 2.0\n",
    "damping_timescale = 100.\n",
    "time_step = 1"
   ]
  },
  {
   "cell_type": "markdown",
   "metadata": {},
   "source": [
    "## Functions \n",
    "copied from: https://github.com/pyiron/pyiron_contrib/blob/master/pyiron_contrib/protocol/primitive/one_state.py"
   ]
  },
  {
   "cell_type": "code",
   "execution_count": 22,
   "metadata": {
    "ExecuteTime": {
     "end_time": "2020-02-21T06:12:57.994172Z",
     "start_time": "2020-02-21T06:12:57.986860Z"
    }
   },
   "outputs": [],
   "source": [
    "def langevin_delta_v(temperature, time_step, masses, damping_timescale, velocities):\n",
    "    \"\"\"\n",
    "    Velocity changes due to the Langevin thermostat.\n",
    "    Args:\n",
    "        temperature (float): The target temperature in K.\n",
    "        time_step (float): The MD time step in fs.\n",
    "        masses (numpy.ndarray): Per-atom masses in u with a shape (N_atoms, 1).\n",
    "        damping_timescale (float): The characteristic timescale of the thermostat in fs.\n",
    "        velocities (numpy.ndarray): Per-atom velocities in angstrom/fs.\n",
    "    Returns:\n",
    "        (numpy.ndarray): Per atom accelerations to use for changing velocities.\n",
    "    \"\"\"\n",
    "    drag = -0.5 * time_step * velocities / damping_timescale\n",
    "    noise = np.sqrt(EV_TO_U_ANGSQ_PER_FSSQ * KB * temperature * time_step / (masses * damping_timescale)) \\\n",
    "        * np.random.randn(*velocities.shape)\n",
    "    noise -= np.mean(noise, axis=0)\n",
    "    return drag + noise"
   ]
  },
  {
   "cell_type": "code",
   "execution_count": 23,
   "metadata": {
    "ExecuteTime": {
     "end_time": "2020-02-21T06:12:58.001812Z",
     "start_time": "2020-02-21T06:12:57.996101Z"
    }
   },
   "outputs": [],
   "source": [
    "def convert_to_acceleration(forces, masses):\n",
    "    return forces * EV_TO_U_ANGSQ_PER_FSSQ / masses"
   ]
  },
  {
   "cell_type": "markdown",
   "metadata": {},
   "source": [
    "## Create Job"
   ]
  },
  {
   "cell_type": "code",
   "execution_count": 24,
   "metadata": {
    "ExecuteTime": {
     "end_time": "2020-02-21T06:13:00.118755Z",
     "start_time": "2020-02-21T06:12:58.002823Z"
    }
   },
   "outputs": [
    {
     "name": "stdout",
     "output_type": "stream",
     "text": [
      "The job lmp_interactive was saved and received the ID: 4948041\n"
     ]
    }
   ],
   "source": [
    "job_name = 'lmp_interactive'\n",
    "ham_lmp = pr.create_job(pr.job_type.Lammps, job_name)\n",
    "ham_lmp.structure = ham_equ.get_structure()\n",
    "ham_lmp.potential = 'Fe_C_Becquart_eam'\n",
    "ham_lmp.server.run_mode.interactive = True\n",
    "ham_lmp.run()"
   ]
  },
  {
   "cell_type": "markdown",
   "metadata": {},
   "source": [
    "## Initial velocities"
   ]
  },
  {
   "cell_type": "code",
   "execution_count": 25,
   "metadata": {
    "ExecuteTime": {
     "end_time": "2020-02-21T06:13:01.442948Z",
     "start_time": "2020-02-21T06:13:00.159102Z"
    }
   },
   "outputs": [],
   "source": [
    "positions = ham_equ.get_structure().positions"
   ]
  },
  {
   "cell_type": "code",
   "execution_count": 26,
   "metadata": {
    "ExecuteTime": {
     "end_time": "2020-02-21T06:13:01.450548Z",
     "start_time": "2020-02-21T06:13:01.443983Z"
    }
   },
   "outputs": [],
   "source": [
    "masses = np.array([a.mass for a in ham_lmp.structure[:]])[:, np.newaxis]"
   ]
  },
  {
   "cell_type": "code",
   "execution_count": 27,
   "metadata": {
    "ExecuteTime": {
     "end_time": "2020-02-21T06:13:01.490769Z",
     "start_time": "2020-02-21T06:13:01.451461Z"
    }
   },
   "outputs": [],
   "source": [
    "forces = ham_lmp.output.forces[-1]"
   ]
  },
  {
   "cell_type": "code",
   "execution_count": 28,
   "metadata": {
    "ExecuteTime": {
     "end_time": "2020-02-21T06:13:01.494383Z",
     "start_time": "2020-02-21T06:13:01.491643Z"
    }
   },
   "outputs": [],
   "source": [
    "vel_scale = np.sqrt(EV_TO_U_ANGSQ_PER_FSSQ * KB * temperature / masses) * np.sqrt(overheat_fraction)\n",
    "vel_dir = np.random.randn(len(masses), 3)\n",
    "velocities = vel_scale * vel_dir\n",
    "velocities -= np.mean(velocities, axis=0)"
   ]
  },
  {
   "cell_type": "code",
   "execution_count": 29,
   "metadata": {
    "ExecuteTime": {
     "end_time": "2020-02-21T06:13:01.512850Z",
     "start_time": "2020-02-21T06:13:01.495275Z"
    }
   },
   "outputs": [],
   "source": [
    "gamma = masses / damping_timescale"
   ]
  },
  {
   "cell_type": "markdown",
   "metadata": {},
   "source": [
    "## Langevin "
   ]
  },
  {
   "cell_type": "code",
   "execution_count": 30,
   "metadata": {
    "ExecuteTime": {
     "end_time": "2020-02-21T06:13:09.778002Z",
     "start_time": "2020-02-21T06:13:01.513703Z"
    }
   },
   "outputs": [],
   "source": [
    "eng_pot_lst, eng_kin_lst = [], []\n",
    "for i in range(steps):\n",
    "    # first half step\n",
    "    acceleration = convert_to_acceleration(forces, masses)\n",
    "    vel_half = velocities + 0.5 * acceleration * time_step\n",
    "    \n",
    "    # damping \n",
    "    if damping_timescale is not None:\n",
    "        vel_half += langevin_delta_v(\n",
    "            temperature,\n",
    "            time_step,\n",
    "            masses,\n",
    "            damping_timescale,\n",
    "            velocities\n",
    "        )\n",
    "    \n",
    "    # postion update \n",
    "    pos_step = positions + vel_half * time_step\n",
    "    \n",
    "    # communicate with Lammps \n",
    "    positions = pos_step.copy()\n",
    "    ham_lmp.interactive_positions_setter(pos_step)\n",
    "    ham_lmp.interactive_execute()\n",
    "    forces = np.array(ham_lmp.interactive_forces_getter())\n",
    "    eng_pot_lst.append(ham_lmp.interactive_energy_pot_getter())\n",
    "    \n",
    "    # second half step \n",
    "    acceleration = convert_to_acceleration(forces, masses)\n",
    "    vel_step = velocities + 0.5 * acceleration * time_step\n",
    "    \n",
    "    # damping \n",
    "    if damping_timescale is not None:\n",
    "        vel_step += langevin_delta_v(\n",
    "            temperature,\n",
    "            time_step,\n",
    "            masses,\n",
    "            damping_timescale,\n",
    "            velocities\n",
    "        )\n",
    "        \n",
    "    # kinetic energy\n",
    "    kinetic_energy = 0.5 * np.sum(masses * vel_step * vel_step) / EV_TO_U_ANGSQ_PER_FSSQ\n",
    "    eng_kin_lst.append(kinetic_energy)\n",
    "    velocities = vel_step.copy()"
   ]
  },
  {
   "cell_type": "code",
   "execution_count": 31,
   "metadata": {
    "ExecuteTime": {
     "end_time": "2020-02-21T06:13:10.277372Z",
     "start_time": "2020-02-21T06:13:09.779307Z"
    }
   },
   "outputs": [],
   "source": [
    "ham_lmp.interactive_close()"
   ]
  },
  {
   "cell_type": "markdown",
   "metadata": {},
   "source": [
    "# Plot"
   ]
  },
  {
   "cell_type": "code",
   "execution_count": 32,
   "metadata": {
    "ExecuteTime": {
     "end_time": "2020-02-21T06:13:10.519447Z",
     "start_time": "2020-02-21T06:13:10.278321Z"
    }
   },
   "outputs": [
    {
     "data": {
      "text/html": [
       "<div>\n",
       "<style scoped>\n",
       "    .dataframe tbody tr th:only-of-type {\n",
       "        vertical-align: middle;\n",
       "    }\n",
       "\n",
       "    .dataframe tbody tr th {\n",
       "        vertical-align: top;\n",
       "    }\n",
       "\n",
       "    .dataframe thead th {\n",
       "        text-align: right;\n",
       "    }\n",
       "</style>\n",
       "<table border=\"1\" class=\"dataframe\">\n",
       "  <thead>\n",
       "    <tr style=\"text-align: right;\">\n",
       "      <th></th>\n",
       "      <th>id</th>\n",
       "      <th>status</th>\n",
       "      <th>chemicalformula</th>\n",
       "      <th>job</th>\n",
       "      <th>subjob</th>\n",
       "      <th>projectpath</th>\n",
       "      <th>project</th>\n",
       "      <th>timestart</th>\n",
       "      <th>timestop</th>\n",
       "      <th>totalcputime</th>\n",
       "      <th>computer</th>\n",
       "      <th>hamilton</th>\n",
       "      <th>hamversion</th>\n",
       "      <th>parentid</th>\n",
       "      <th>masterid</th>\n",
       "    </tr>\n",
       "  </thead>\n",
       "  <tbody>\n",
       "    <tr>\n",
       "      <th>0</th>\n",
       "      <td>4948040</td>\n",
       "      <td>finished</td>\n",
       "      <td>Fe54</td>\n",
       "      <td>lmpequ</td>\n",
       "      <td>/lmpequ</td>\n",
       "      <td>/cmmc/u/</td>\n",
       "      <td>janj/pyiron/projects/2020/2020-02-21-pyiron-meeting/md_1000_0/</td>\n",
       "      <td>2020-02-21 07:12:20.866891</td>\n",
       "      <td>2020-02-21 07:12:45.099355</td>\n",
       "      <td>24.0</td>\n",
       "      <td>janj@cmti001#1</td>\n",
       "      <td>Lammps</td>\n",
       "      <td>0.1</td>\n",
       "      <td>None</td>\n",
       "      <td>None</td>\n",
       "    </tr>\n",
       "    <tr>\n",
       "      <th>1</th>\n",
       "      <td>4948041</td>\n",
       "      <td>finished</td>\n",
       "      <td>Fe54</td>\n",
       "      <td>lmp_interactive</td>\n",
       "      <td>/lmp_interactive</td>\n",
       "      <td>/cmmc/u/</td>\n",
       "      <td>janj/pyiron/projects/2020/2020-02-21-pyiron-meeting/md_1000_0/</td>\n",
       "      <td>2020-02-21 07:12:59.670048</td>\n",
       "      <td>2020-02-21 07:13:10.226540</td>\n",
       "      <td>10.0</td>\n",
       "      <td>janj@cmti001#1</td>\n",
       "      <td>Lammps</td>\n",
       "      <td>0.1</td>\n",
       "      <td>None</td>\n",
       "      <td>None</td>\n",
       "    </tr>\n",
       "  </tbody>\n",
       "</table>\n",
       "</div>"
      ],
      "text/plain": [
       "        id    status chemicalformula              job            subjob  \\\n",
       "0  4948040  finished            Fe54           lmpequ           /lmpequ   \n",
       "1  4948041  finished            Fe54  lmp_interactive  /lmp_interactive   \n",
       "\n",
       "  projectpath                                                         project  \\\n",
       "0    /cmmc/u/  janj/pyiron/projects/2020/2020-02-21-pyiron-meeting/md_1000_0/   \n",
       "1    /cmmc/u/  janj/pyiron/projects/2020/2020-02-21-pyiron-meeting/md_1000_0/   \n",
       "\n",
       "                   timestart                   timestop  totalcputime  \\\n",
       "0 2020-02-21 07:12:20.866891 2020-02-21 07:12:45.099355          24.0   \n",
       "1 2020-02-21 07:12:59.670048 2020-02-21 07:13:10.226540          10.0   \n",
       "\n",
       "         computer hamilton hamversion parentid masterid  \n",
       "0  janj@cmti001#1   Lammps        0.1     None     None  \n",
       "1  janj@cmti001#1   Lammps        0.1     None     None  "
      ]
     },
     "execution_count": 32,
     "metadata": {},
     "output_type": "execute_result"
    }
   ],
   "source": [
    "pr.job_table()"
   ]
  },
  {
   "cell_type": "code",
   "execution_count": 33,
   "metadata": {
    "ExecuteTime": {
     "end_time": "2020-02-21T06:13:10.679027Z",
     "start_time": "2020-02-21T06:13:10.520294Z"
    }
   },
   "outputs": [
    {
     "data": {
      "text/plain": [
       "Text(0, 0.5, 'Energy (eV)')"
      ]
     },
     "execution_count": 33,
     "metadata": {},
     "output_type": "execute_result"
    },
    {
     "data": {
      "image/png": "[encoded data removed]",
      "text/plain": [
       "<Figure size 432x288 with 1 Axes>"
      ]
     },
     "metadata": {
      "needs_background": "light"
     },
     "output_type": "display_data"
    }
   ],
   "source": [
    "plt.plot(eng_pot_lst, alpha=0.5, label='interactive')\n",
    "plt.plot(ham_equ['output/generic/energy_tot'], alpha=0.5, label='lammps')\n",
    "plt.legend()\n",
    "plt.xlabel('Timesteps')\n",
    "plt.ylabel('Energy (eV)')"
   ]
  },
  {
   "cell_type": "code",
   "execution_count": null,
   "metadata": {},
   "outputs": [],
   "source": []
  }
 ],
 "metadata": {
  "kernelspec": {
   "display_name": "Python 3",
   "language": "python",
   "name": "python3"
  },
  "language_info": {
   "codemirror_mode": {
    "name": "ipython",
    "version": 3
   },
   "file_extension": ".py",
   "mimetype": "text/x-python",
   "name": "python",
   "nbconvert_exporter": "python",
   "pygments_lexer": "ipython3",
   "version": "3.7.6"
  },
  "toc": {
   "base_numbering": 1,
   "nav_menu": {},
   "number_sections": true,
   "sideBar": true,
   "skip_h1_title": false,
   "title_cell": "Table of Contents",
   "title_sidebar": "Contents",
   "toc_cell": false,
   "toc_position": {},
   "toc_section_display": "block",
   "toc_window_display": false
  }
 },
 "nbformat": 4,
 "nbformat_minor": 2
}
